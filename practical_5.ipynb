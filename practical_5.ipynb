{
 "cells": [
  {
   "cell_type": "markdown",
   "id": "18872dd2-6cd5-48dd-a4dc-f0da7a793312",
   "metadata": {},
   "source": [
    "***Use command to compute the size of a matrix, size/length of a particular row/column, load data from a text file, store matrix data to a text file, finding out variables and their features in the current scope.***"
   ]
  },
  {
   "cell_type": "markdown",
   "id": "ca5a345c-d7ca-441d-9693-9ea3f614c6b7",
   "metadata": {},
   "source": [
    "***SIZE OF A MATRIX***"
   ]
  },
  {
   "cell_type": "code",
   "execution_count": 2,
   "id": "b0930a75-3980-47e2-a490-d03ad31d7f90",
   "metadata": {},
   "outputs": [
    {
     "name": "stdout",
     "output_type": "stream",
     "text": [
      "Size of the matrix:  9\n"
     ]
    }
   ],
   "source": [
    "import numpy as np\n",
    "# Create a matrix\n",
    "matrix = np.array([[1,2,3], [4,5,6], [7,8,9]])\n",
    "# Compute the size of the matrix\n",
    "size = matrix.size\n",
    "print(\"Size of the matrix: \",size)"
   ]
  },
  {
   "cell_type": "markdown",
   "id": "91999bec-874d-4d0a-9038-d45b212f738e",
   "metadata": {},
   "source": [
    "***The length of a particular row/column***"
   ]
  },
  {
   "cell_type": "code",
   "execution_count": 4,
   "id": "ce1da5da-ee1b-4952-bd32-fc0a813e7460",
   "metadata": {},
   "outputs": [
    {
     "name": "stdout",
     "output_type": "stream",
     "text": [
      "Length of the first row:  3\n",
      "Length of the second column:  3\n"
     ]
    }
   ],
   "source": [
    "import numpy as np\n",
    "# Compute the length of the first row\n",
    "row_length = len(matrix[0])\n",
    "#Compute the length of the secong column\n",
    "column_length = len(matrix[:,1])\n",
    "print(\"Length of the first row: \", row_length)\n",
    "print(\"Length of the second column: \", column_length)"
   ]
  },
  {
   "cell_type": "markdown",
   "id": "1452b220-b36c-4ad3-b571-c68f14d48cbd",
   "metadata": {},
   "source": [
    "***Load data from a text file***"
   ]
  },
  {
   "cell_type": "code",
   "execution_count": 26,
   "id": "e6356a69-671b-42bb-9ab0-544dca9bdb35",
   "metadata": {},
   "outputs": [
    {
     "name": "stdout",
     "output_type": "stream",
     "text": [
      "                           0\n",
      "0  [[1,2,3],[4,5,6],[5,6,6]]\n"
     ]
    },
    {
     "name": "stderr",
     "output_type": "stream",
     "text": [
      "<>:3: SyntaxWarning: invalid escape sequence '\\J'\n",
      "<>:3: SyntaxWarning: invalid escape sequence '\\J'\n",
      "C:\\Users\\Pc\\AppData\\Local\\Temp\\ipykernel_1436\\2456413935.py:3: SyntaxWarning: invalid escape sequence '\\J'\n",
      "  file_path = 'D:\\JUPYTER NOTEBOOK\\data.txt'\n"
     ]
    }
   ],
   "source": [
    "import pandas as pd\n",
    "\n",
    "file_path = 'D:\\JUPYTER NOTEBOOK\\data.txt'\n",
    "data = pd.read_csv(file_path, sep='\\t', header=None)  # Change separator if necessary\n",
    "print(data)"
   ]
  },
  {
   "cell_type": "code",
   "execution_count": 22,
   "id": "d08159c5-498a-426c-ab2d-604e07392038",
   "metadata": {},
   "outputs": [
    {
     "name": "stdout",
     "output_type": "stream",
     "text": [
      "Matrix data stored to 'matrix.txt'\n"
     ]
    }
   ],
   "source": [
    "import numpy as np\n",
    "\n",
    "# Create a matrix\n",
    "matrix = np.array([[1, 2, 3], [4, 5, 6], [7, 8, 9]])\n",
    "\n",
    "# Store matrix data to a text file\n",
    "np.savetxt('matrix.txt', matrix)\n",
    "\n",
    "print(\"Matrix data stored to 'matrix.txt'\")"
   ]
  },
  {
   "cell_type": "markdown",
   "id": "81a6c070-02a7-456e-88b2-896946d7f787",
   "metadata": {},
   "source": [
    "***Finding out variables and their features in the current scope***"
   ]
  },
  {
   "cell_type": "code",
   "execution_count": 27,
   "id": "4a5bcec0-6b45-48d0-9abc-97b032f5161e",
   "metadata": {},
   "outputs": [
    {
     "name": "stdout",
     "output_type": "stream",
     "text": [
      "Variables in the current scope: ['In', 'Out', '_', '__', '___', '__builtin__', '__builtins__', '__doc__', '__loader__', '__name__', '__package__', '__session__', '__spec__', '_dh', '_i', '_i1', '_i10', '_i11', '_i12', '_i13', '_i14', '_i15', '_i16', '_i17', '_i18', '_i19', '_i2', '_i20', '_i21', '_i22', '_i23', '_i24', '_i25', '_i26', '_i27', '_i3', '_i4', '_i5', '_i6', '_i7', '_i8', '_i9', '_ih', '_ii', '_iii', '_oh', 'a', 'b', 'c', 'column_length', 'data', 'exit', 'file_path', 'get_ipython', 'matrix', 'np', 'open', 'pd', 'quit', 'row_length', 'size']\n"
     ]
    }
   ],
   "source": [
    "import numpy as np\n",
    "\n",
    "# Define variables\n",
    "a = 1\n",
    "b = \"hello\"\n",
    "c = [1, 2, 3]\n",
    "\n",
    "# Get variables and their features in the current scope\n",
    "variables = dir()\n",
    "\n",
    "print(\"Variables in the current scope:\", variables)"
   ]
  },
  {
   "cell_type": "code",
   "execution_count": null,
   "id": "28088d59-551d-4724-b53a-b4fc0ad80e5d",
   "metadata": {},
   "outputs": [],
   "source": []
  }
 ],
 "metadata": {
  "kernelspec": {
   "display_name": "Python 3 (ipykernel)",
   "language": "python",
   "name": "python3"
  },
  "language_info": {
   "codemirror_mode": {
    "name": "ipython",
    "version": 3
   },
   "file_extension": ".py",
   "mimetype": "text/x-python",
   "name": "python",
   "nbconvert_exporter": "python",
   "pygments_lexer": "ipython3",
   "version": "3.12.1"
  }
 },
 "nbformat": 4,
 "nbformat_minor": 5
}
