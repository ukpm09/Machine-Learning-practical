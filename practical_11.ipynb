{
 "cells": [
  {
   "cell_type": "markdown",
   "id": "2952616a-2bd5-42e1-9e08-9cb897bf0886",
   "metadata": {},
   "source": [
    "***Perform vectorized of simple matrix operation like finding the transpose of a matrix, adding,subtracting or multiplying two matrices***"
   ]
  },
  {
   "cell_type": "code",
   "execution_count": 1,
   "id": "17912e6b-64c9-418f-b280-a8d5d88cc9e2",
   "metadata": {},
   "outputs": [
    {
     "name": "stdout",
     "output_type": "stream",
     "text": [
      "Original Matrix:\n",
      "[[1 2 3]\n",
      " [4 5 6]\n",
      " [7 8 9]]\n",
      "\n",
      "Transpose of Matrix:\n",
      "[[1 4 7]\n",
      " [2 5 8]\n",
      " [3 6 9]]\n",
      "\n",
      "Addition of Matrices:\n",
      "[[10 10 10]\n",
      " [10 10 10]\n",
      " [10 10 10]]\n",
      "\n",
      "Subtraction of Matrices:\n",
      "[[-8 -6 -4]\n",
      " [-2  0  2]\n",
      " [ 4  6  8]]\n",
      "\n",
      "Multiplication of Matrices:\n",
      "[[ 30  24  18]\n",
      " [ 84  69  54]\n",
      " [138 114  90]]\n"
     ]
    }
   ],
   "source": [
    "import numpy as np\n",
    "\n",
    "# Define two matrices\n",
    "matrix1 = np.array([[1, 2, 3], [4, 5, 6],  [7, 8, 9]])\n",
    "\n",
    "matrix2 = np.array([[9, 8, 7], [6, 5, 4], [3, 2, 1]])\n",
    "\n",
    "# Transpose of a matrix\n",
    "transpose_matrix1 = np.transpose(matrix1)\n",
    "\n",
    "# Addition of matrices\n",
    "matrix_addition = matrix1 + matrix2\n",
    "\n",
    "# Subtraction of matrices\n",
    "matrix_subtraction = matrix1 - matrix2\n",
    "\n",
    "# Multiplication of matrices\n",
    "matrix_multiplication = np.dot(matrix1, matrix2)\n",
    "\n",
    "# Display results\n",
    "print(\"Original Matrix:\")\n",
    "print(matrix1)\n",
    "\n",
    "print(\"\\nTranspose of Matrix:\")\n",
    "print(transpose_matrix1)\n",
    "\n",
    "print(\"\\nAddition of Matrices:\")\n",
    "print(matrix_addition)\n",
    "\n",
    "print(\"\\nSubtraction of Matrices:\")\n",
    "print(matrix_subtraction)\n",
    "\n",
    "print(\"\\nMultiplication of Matrices:\")\n",
    "print(matrix_multiplication)\n"
   ]
  },
  {
   "cell_type": "code",
   "execution_count": null,
   "id": "067c3bdc-4a26-406b-8401-b78ac580dfe2",
   "metadata": {},
   "outputs": [],
   "source": []
  }
 ],
 "metadata": {
  "kernelspec": {
   "display_name": "Python 3 (ipykernel)",
   "language": "python",
   "name": "python3"
  },
  "language_info": {
   "codemirror_mode": {
    "name": "ipython",
    "version": 3
   },
   "file_extension": ".py",
   "mimetype": "text/x-python",
   "name": "python",
   "nbconvert_exporter": "python",
   "pygments_lexer": "ipython3",
   "version": "3.12.1"
  }
 },
 "nbformat": 4,
 "nbformat_minor": 5
}
