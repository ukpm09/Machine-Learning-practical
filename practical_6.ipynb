{
 "cells": [
  {
   "cell_type": "markdown",
   "id": "b00566b7-1d40-475f-b0ce-e6dcf858d5d3",
   "metadata": {},
   "source": [
    "***Perform basic operations on matrices (like addition, subtraction, multiplication) and display specific rows or columns of the matrix***"
   ]
  },
  {
   "cell_type": "code",
   "execution_count": 1,
   "id": "4ae2e656-cc88-400d-866d-1872c0d8520b",
   "metadata": {},
   "outputs": [
    {
     "name": "stdout",
     "output_type": "stream",
     "text": [
      "Matrix Addition:\n",
      "[[10 10 10]\n",
      " [10 10 10]\n",
      " [10 10 10]]\n",
      "\n",
      "Matrix Subtraction:\n",
      "[[-8 -6 -4]\n",
      " [-2  0  2]\n",
      " [ 4  6  8]]\n",
      "\n",
      "Matrix Multiplication:\n",
      "[[ 30  24  18]\n",
      " [ 84  69  54]\n",
      " [138 114  90]]\n",
      "\n",
      "Specific Row (Index 1):\n",
      "[4 5 6]\n",
      "\n",
      "Specific Column (Index 2):\n",
      "[3 6 9]\n"
     ]
    }
   ],
   "source": [
    "import numpy as np\n",
    "\n",
    "# Define two matrices\n",
    "matrix1 = np.array([[1, 2, 3],[4, 5, 6], [7, 8, 9]])\n",
    "\n",
    "matrix2 = np.array([[9, 8, 7], [6, 5, 4], [3, 2, 1]])\n",
    "\n",
    "# Addition of matrices\n",
    "matrix_addition = matrix1 + matrix2\n",
    "\n",
    "# Subtraction of matrices\n",
    "matrix_subtraction = matrix1 - matrix2\n",
    "\n",
    "# Multiplication of matrices\n",
    "matrix_multiplication = np.dot(matrix1, matrix2)\n",
    "\n",
    "# Display specific rows or columns of a matrix\n",
    "specific_row = matrix1[1]  # Displaying the second row (index 1)\n",
    "specific_column = matrix1[:, 2]  # Displaying the third column (index 2)\n",
    "\n",
    "# Display results\n",
    "print(\"Matrix Addition:\")\n",
    "print(matrix_addition)\n",
    "\n",
    "print(\"\\nMatrix Subtraction:\")\n",
    "print(matrix_subtraction)\n",
    "\n",
    "print(\"\\nMatrix Multiplication:\")\n",
    "print(matrix_multiplication)\n",
    "\n",
    "print(\"\\nSpecific Row (Index 1):\")\n",
    "print(specific_row)\n",
    "\n",
    "print(\"\\nSpecific Column (Index 2):\")\n",
    "print(specific_column)\n"
   ]
  },
  {
   "cell_type": "code",
   "execution_count": null,
   "id": "02f34d31-7cc7-42a2-83ee-100f512210d2",
   "metadata": {},
   "outputs": [],
   "source": []
  }
 ],
 "metadata": {
  "kernelspec": {
   "display_name": "Python 3 (ipykernel)",
   "language": "python",
   "name": "python3"
  },
  "language_info": {
   "codemirror_mode": {
    "name": "ipython",
    "version": 3
   },
   "file_extension": ".py",
   "mimetype": "text/x-python",
   "name": "python",
   "nbconvert_exporter": "python",
   "pygments_lexer": "ipython3",
   "version": "3.12.1"
  }
 },
 "nbformat": 4,
 "nbformat_minor": 5
}
