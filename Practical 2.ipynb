{
 "cells": [
  {
   "cell_type": "markdown",
   "id": "d1160757-2890-45d7-ac69-02a44d535b6b",
   "metadata": {},
   "source": [
    "***OR OPERATOR***"
   ]
  },
  {
   "cell_type": "code",
   "execution_count": 7,
   "id": "cb5386ac-8841-4f40-8fac-98d00730db87",
   "metadata": {},
   "outputs": [
    {
     "name": "stdout",
     "output_type": "stream",
     "text": [
      "True\n"
     ]
    }
   ],
   "source": [
    "code1=10>5 or 5<10\n",
    "print(code1)"
   ]
  },
  {
   "cell_type": "markdown",
   "id": "a288cea0-f522-4012-afef-86e0b57fff31",
   "metadata": {},
   "source": [
    "***AND OPERATOR***"
   ]
  },
  {
   "cell_type": "code",
   "execution_count": 3,
   "id": "c9b7d4f7-6884-4dd8-b1fe-443c6b52204b",
   "metadata": {},
   "outputs": [
    {
     "name": "stdout",
     "output_type": "stream",
     "text": [
      "[12, 18, 24, 30]\n"
     ]
    }
   ],
   "source": [
    "l_1 = [12,15,18,21,24,27,30]\n",
    "divisible = [num for num in l_1 if num % 2 == 0 and num % 3 == 0]\n",
    "print(divisible)"
   ]
  },
  {
   "cell_type": "markdown",
   "id": "df244820-57f7-4d89-a751-9dcdab52a2d1",
   "metadata": {},
   "source": [
    "***Equality Operator***"
   ]
  },
  {
   "cell_type": "code",
   "execution_count": 5,
   "id": "b072f4f6-aa29-4c8a-af64-c3c4faaa8474",
   "metadata": {},
   "outputs": [
    {
     "name": "stdout",
     "output_type": "stream",
     "text": [
      "False\n"
     ]
    }
   ],
   "source": [
    "a=7\n",
    "b=6\n",
    "result=a==b\n",
    "print(result)"
   ]
  },
  {
   "cell_type": "markdown",
   "id": "6f0787d1-fdca-4fc8-8287-1421cf5e8b18",
   "metadata": {},
   "source": [
    "***NOT OPERATOR***"
   ]
  },
  {
   "cell_type": "code",
   "execution_count": 8,
   "id": "590e3c0a-d10a-420d-827b-7d14c5b01e97",
   "metadata": {},
   "outputs": [
    {
     "name": "stdout",
     "output_type": "stream",
     "text": [
      "False\n"
     ]
    }
   ],
   "source": [
    "a=5\n",
    "b=10\n",
    "resutl = a!=b\n",
    "print(result)"
   ]
  },
  {
   "cell_type": "markdown",
   "id": "8343f15d-0552-4289-ac7e-34f409f8b2db",
   "metadata": {},
   "source": [
    "***XOR OPERATOR***"
   ]
  },
  {
   "cell_type": "code",
   "execution_count": 9,
   "id": "8ec0d48e-09de-4810-af21-297144024f83",
   "metadata": {},
   "outputs": [
    {
     "name": "stdout",
     "output_type": "stream",
     "text": [
      "After swapping:\n",
      "a = 9\n",
      "b = 5\n"
     ]
    }
   ],
   "source": [
    "a = 5\n",
    "b = 9\n",
    "\n",
    "a = a ^ b\n",
    "b = a ^ b\n",
    "a = a ^ b\n",
    "\n",
    "print(\"After swapping:\")\n",
    "print(\"a =\", a)\n",
    "print(\"b =\", b)"
   ]
  },
  {
   "cell_type": "code",
   "execution_count": null,
   "id": "39b2490c-fb8a-4be1-a3b4-5d8aa0b94c08",
   "metadata": {},
   "outputs": [],
   "source": []
  }
 ],
 "metadata": {
  "kernelspec": {
   "display_name": "Python 3 (ipykernel)",
   "language": "python",
   "name": "python3"
  },
  "language_info": {
   "codemirror_mode": {
    "name": "ipython",
    "version": 3
   },
   "file_extension": ".py",
   "mimetype": "text/x-python",
   "name": "python",
   "nbconvert_exporter": "python",
   "pygments_lexer": "ipython3",
   "version": "3.12.1"
  }
 },
 "nbformat": 4,
 "nbformat_minor": 5
}
