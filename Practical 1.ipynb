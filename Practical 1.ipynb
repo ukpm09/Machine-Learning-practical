{
 "cells": [
  {
   "cell_type": "markdown",
   "id": "571d78e0-e0ca-4ac4-a4f9-40f1ad9d8a27",
   "metadata": {},
   "source": [
    "***Machine Learning***"
   ]
  },
  {
   "cell_type": "markdown",
   "id": "9bd23371-2d30-43ea-9188-3dd5634c335b",
   "metadata": {},
   "source": [
    "***Practical 1***"
   ]
  },
  {
   "cell_type": "code",
   "execution_count": 2,
   "id": "1e656569-7949-4560-907e-0c8036327a4e",
   "metadata": {},
   "outputs": [
    {
     "name": "stdout",
     "output_type": "stream",
     "text": [
      "addition 15\n",
      "Subtraction 5\n",
      "Division 2.0\n",
      "Multiplication 50\n"
     ]
    }
   ],
   "source": [
    "#addition\n",
    "a=10\n",
    "b=5\n",
    "addition=a+b\n",
    "print(\"addition\", addition)\n",
    "#subtraction \n",
    "subtraction=a-b\n",
    "print(\"Subtraction\", subtraction)\n",
    "#Division\n",
    "Division=a/b\n",
    "print(\"Division\" ,Division)\n",
    "#Multiplication\n",
    "Multiplication=a*b\n",
    "print(\"Multiplication\",Multiplication)"
   ]
  },
  {
   "cell_type": "code",
   "execution_count": null,
   "id": "e6335b21-9a21-400e-8994-5f5347eb8e23",
   "metadata": {},
   "outputs": [],
   "source": []
  }
 ],
 "metadata": {
  "kernelspec": {
   "display_name": "Python 3 (ipykernel)",
   "language": "python",
   "name": "python3"
  },
  "language_info": {
   "codemirror_mode": {
    "name": "ipython",
    "version": 3
   },
   "file_extension": ".py",
   "mimetype": "text/x-python",
   "name": "python",
   "nbconvert_exporter": "python",
   "pygments_lexer": "ipython3",
   "version": "3.12.1"
  }
 },
 "nbformat": 4,
 "nbformat_minor": 5
}
