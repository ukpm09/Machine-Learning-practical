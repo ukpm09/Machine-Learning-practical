{
 "cells": [
  {
   "cell_type": "markdown",
   "id": "f5d1117c-af3f-42bd-b20c-e6d4ba9fa08f",
   "metadata": {},
   "source": [
    "***Create intialize and display simple variable and simple strings and use simple formatting for variable.***"
   ]
  },
  {
   "cell_type": "code",
   "execution_count": 2,
   "id": "bcb3b757-d94e-454d-b477-3bf069c72256",
   "metadata": {},
   "outputs": [
    {
     "name": "stdout",
     "output_type": "stream",
     "text": [
      "Name: John\n",
      "Age: 30\n",
      "Height: 6.2 feet\n",
      "Hello, John! You are 30 years old and 6.2 feet tall.\n"
     ]
    }
   ],
   "source": [
    "name = \"John\"\n",
    "age = 30\n",
    "height = 6.2\n",
    "\n",
    "# Display variables using simple formatting\n",
    "print(\"Name: \" + name)\n",
    "print(\"Age: \" + str(age))\n",
    "print(\"Height: \" + str(height) + \" feet\")\n",
    "\n",
    "# Display strings with formatting\n",
    "print(\"Hello, {}! You are {} years old and {} feet tall.\".format(name, age, height))"
   ]
  },
  {
   "cell_type": "code",
   "execution_count": null,
   "id": "697e352a-4c41-4ce8-a182-173d309aa2b4",
   "metadata": {},
   "outputs": [],
   "source": []
  }
 ],
 "metadata": {
  "kernelspec": {
   "display_name": "Python 3 (ipykernel)",
   "language": "python",
   "name": "python3"
  },
  "language_info": {
   "codemirror_mode": {
    "name": "ipython",
    "version": 3
   },
   "file_extension": ".py",
   "mimetype": "text/x-python",
   "name": "python",
   "nbconvert_exporter": "python",
   "pygments_lexer": "ipython3",
   "version": "3.12.1"
  }
 },
 "nbformat": 4,
 "nbformat_minor": 5
}
