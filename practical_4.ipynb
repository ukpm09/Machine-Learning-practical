{
 "cells": [
  {
   "cell_type": "markdown",
   "id": "23704f82-af47-4e80-b76b-59733ab243e4",
   "metadata": {},
   "source": [
    "***Create/Define single dimension/multi-dimension arrays, and arrays with specific values like array of all ones, all zeros, array with random values within a range, or a diagonal matrix.***"
   ]
  },
  {
   "cell_type": "code",
   "execution_count": 1,
   "id": "bd395320-ab17-48ea-9812-52754144bbdb",
   "metadata": {},
   "outputs": [
    {
     "name": "stdout",
     "output_type": "stream",
     "text": [
      "Single-dimensional array:\n",
      "[1 2 3 4 5]\n",
      "\n",
      "Multi-dimensional array:\n",
      "[[1 2 3]\n",
      " [4 5 6]\n",
      " [7 8 9]]\n",
      "\n",
      "Array of all ones:\n",
      "[[1. 1. 1.]\n",
      " [1. 1. 1.]\n",
      " [1. 1. 1.]]\n",
      "\n",
      "Array of all zeros:\n",
      "[[0. 0. 0. 0.]\n",
      " [0. 0. 0. 0.]]\n",
      "\n",
      "Array with random values within a range:\n",
      "[[3 0 4]\n",
      " [8 3 8]\n",
      " [5 3 4]]\n",
      "\n",
      "Diagonal matrix:\n",
      "[[1 0 0 0 0]\n",
      " [0 2 0 0 0]\n",
      " [0 0 3 0 0]\n",
      " [0 0 0 4 0]\n",
      " [0 0 0 0 5]]\n"
     ]
    }
   ],
   "source": [
    "import numpy as np\n",
    "\n",
    "# Define single-dimensional array\n",
    "single_dimension_array = np.array([1, 2, 3, 4, 5])\n",
    "\n",
    "# Define multi-dimensional array\n",
    "multi_dimension_array = np.array([[1, 2, 3], [4, 5, 6], [7, 8, 9]])\n",
    "\n",
    "# Array of all ones\n",
    "ones_array = np.ones((3, 3))  # A 3x3 array filled with ones\n",
    "\n",
    "# Array of all zeros\n",
    "zeros_array = np.zeros((2, 4))  # A 2x4 array filled with zeros\n",
    "\n",
    "# Array with random values within a range\n",
    "random_array = np.random.randint(0, 10, size=(3, 3))  # A 3x3 array with random values between 0 and 10\n",
    "\n",
    "# Diagonal matrix\n",
    "diagonal_matrix = np.diag([1, 2, 3, 4, 5])  # A diagonal matrix with diagonal elements 1, 2, 3, 4, 5\n",
    "\n",
    "# Display arrays\n",
    "print(\"Single-dimensional array:\")\n",
    "print(single_dimension_array)\n",
    "\n",
    "print(\"\\nMulti-dimensional array:\")\n",
    "print(multi_dimension_array)\n",
    "\n",
    "print(\"\\nArray of all ones:\")\n",
    "print(ones_array)\n",
    "\n",
    "print(\"\\nArray of all zeros:\")\n",
    "print(zeros_array)\n",
    "\n",
    "print(\"\\nArray with random values within a range:\")\n",
    "print(random_array)\n",
    "\n",
    "print(\"\\nDiagonal matrix:\")\n",
    "print(diagonal_matrix)\n"
   ]
  },
  {
   "cell_type": "code",
   "execution_count": null,
   "id": "d7384dcd-434c-41d9-9f02-5c471435f9b3",
   "metadata": {},
   "outputs": [],
   "source": []
  }
 ],
 "metadata": {
  "kernelspec": {
   "display_name": "Python 3 (ipykernel)",
   "language": "python",
   "name": "python3"
  },
  "language_info": {
   "codemirror_mode": {
    "name": "ipython",
    "version": 3
   },
   "file_extension": ".py",
   "mimetype": "text/x-python",
   "name": "python",
   "nbconvert_exporter": "python",
   "pygments_lexer": "ipython3",
   "version": "3.12.1"
  }
 },
 "nbformat": 4,
 "nbformat_minor": 5
}
